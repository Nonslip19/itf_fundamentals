{
  "nbformat": 4,
  "nbformat_minor": 0,
  "metadata": {
    "kernelspec": {
      "display_name": "Python 3",
      "language": "python",
      "name": "python3"
    },
    "language_info": {
      "codemirror_mode": {
        "name": "ipython",
        "version": 3
      },
      "file_extension": ".py",
      "mimetype": "text/x-python",
      "name": "python",
      "nbconvert_exporter": "python",
      "pygments_lexer": "ipython3",
      "version": "3.7.3"
    },
    "colab": {
      "name": "17_PythonBasic_18-August-2021.ipynb",
      "provenance": [],
      "include_colab_link": true
    }
  },
  "cells": [
    {
      "cell_type": "markdown",
      "metadata": {
        "id": "view-in-github",
        "colab_type": "text"
      },
      "source": [
        "<a href=\"https://colab.research.google.com/github/Nonslip19/itf_fundamentals/blob/main/17_PythonBasic_18_August_2021.ipynb\" target=\"_parent\"><img src=\"https://colab.research.google.com/assets/colab-badge.svg\" alt=\"Open In Colab\"/></a>"
      ]
    },
    {
      "cell_type": "markdown",
      "metadata": {
        "id": "X-exkBaIAuEC"
      },
      "source": [
        "<img src=\"https://docs.google.com/uc?id=14xeXxFrVRjvOoUYWn_GuyE-v84wVzrqr\" class=\"img-fluid\" alt=\"CLRWY\" width=\"400\" height=\"200\">"
      ]
    },
    {
      "cell_type": "markdown",
      "metadata": {
        "id": "plVAGotrAuEG"
      },
      "source": [
        "<h1><p style=\"text-align: center; color:darkblue\">Python + In-Class, <br>18 August 2021</p><h1>"
      ]
    },
    {
      "cell_type": "code",
      "metadata": {
        "id": "TubHWu05AuEH"
      },
      "source": [
        "def repeater(n) :\n",
        "    return lambda x : x * n"
      ],
      "execution_count": null,
      "outputs": []
    },
    {
      "cell_type": "code",
      "metadata": {
        "id": "jE9-djbfAuEI"
      },
      "source": [
        "repeat_5 = repeater(5)"
      ],
      "execution_count": null,
      "outputs": []
    },
    {
      "cell_type": "code",
      "metadata": {
        "id": "EiNft1BuAuEJ",
        "outputId": "5ef4d956-5fbd-40f5-f398-d2256746c594"
      },
      "source": [
        "repeat_5"
      ],
      "execution_count": null,
      "outputs": [
        {
          "data": {
            "text/plain": [
              "<function __main__.repeater.<locals>.<lambda>(x)>"
            ]
          },
          "execution_count": 3,
          "metadata": {},
          "output_type": "execute_result"
        }
      ]
    },
    {
      "cell_type": "code",
      "metadata": {
        "id": "mGmSaYxGAuEL",
        "outputId": "248985e3-3b33-499d-fb03-6d161aeeb592"
      },
      "source": [
        "repeat_5(\"sizi çok özledim..\")"
      ],
      "execution_count": null,
      "outputs": [
        {
          "data": {
            "text/plain": [
              "'sizi çok özledim..sizi çok özledim..sizi çok özledim..sizi çok özledim..sizi çok özledim..'"
            ]
          },
          "execution_count": 4,
          "metadata": {},
          "output_type": "execute_result"
        }
      ]
    },
    {
      "cell_type": "code",
      "metadata": {
        "id": "NI6kOODCAuEM"
      },
      "source": [
        "repeat_2 = repeater(2)"
      ],
      "execution_count": null,
      "outputs": []
    },
    {
      "cell_type": "code",
      "metadata": {
        "id": "tILR06tJAuEN",
        "outputId": "f93d8847-c764-413c-8d39-684c792f5be3"
      },
      "source": [
        "repeat_2(\"sizlerden ayrılacağıma üzülmemek eldemi\")"
      ],
      "execution_count": null,
      "outputs": [
        {
          "data": {
            "text/plain": [
              "'sizlerden ayrılacağıma üzülmemek eldemisizlerden ayrılacağıma üzülmemek eldemi'"
            ]
          },
          "execution_count": 6,
          "metadata": {},
          "output_type": "execute_result"
        }
      ]
    },
    {
      "cell_type": "code",
      "metadata": {
        "id": "xuvURXloAuEO"
      },
      "source": [
        "def functioner(emoji) :\n",
        "    return lambda message : print(message, emoji)"
      ],
      "execution_count": null,
      "outputs": []
    },
    {
      "cell_type": "code",
      "metadata": {
        "id": "8lajsofWAuEP"
      },
      "source": [
        "smile_print = functioner(\":)\")"
      ],
      "execution_count": null,
      "outputs": []
    },
    {
      "cell_type": "code",
      "metadata": {
        "id": "ACOR41rpAuEQ",
        "outputId": "629f2cca-d24e-4003-f326-aa7693ad927f"
      },
      "source": [
        "smile_print(1)"
      ],
      "execution_count": null,
      "outputs": [
        {
          "name": "stdout",
          "output_type": "stream",
          "text": [
            "1 :)\n"
          ]
        }
      ]
    },
    {
      "cell_type": "code",
      "metadata": {
        "id": "eD4BZMHFAuEQ",
        "outputId": "eb774118-0169-41a9-fb2e-04b7ba45af32"
      },
      "source": [
        "smile_print(\"bir\")"
      ],
      "execution_count": null,
      "outputs": [
        {
          "name": "stdout",
          "output_type": "stream",
          "text": [
            "bir :)\n"
          ]
        }
      ]
    },
    {
      "cell_type": "code",
      "metadata": {
        "id": "MzIiju38AuER"
      },
      "source": [
        "sad_print = functioner(\":(\")"
      ],
      "execution_count": null,
      "outputs": []
    },
    {
      "cell_type": "code",
      "metadata": {
        "id": "CzdAZMMCAuES",
        "outputId": "7ac88e6f-6574-4721-d753-937bfd73b591"
      },
      "source": [
        "sad_print([1, \"1\", False])"
      ],
      "execution_count": null,
      "outputs": [
        {
          "name": "stdout",
          "output_type": "stream",
          "text": [
            "[1, '1', False] :(\n"
          ]
        }
      ]
    },
    {
      "cell_type": "code",
      "metadata": {
        "id": "M0avsh3HAuES",
        "outputId": "e60a5ea2-1646-448a-8a16-2e269081888b"
      },
      "source": [
        "(lambda a : a + \":)\")(\"hello \")"
      ],
      "execution_count": null,
      "outputs": [
        {
          "data": {
            "text/plain": [
              "'hello :)'"
            ]
          },
          "execution_count": 13,
          "metadata": {},
          "output_type": "execute_result"
        }
      ]
    },
    {
      "cell_type": "code",
      "metadata": {
        "id": "RWlXQJvtAuET"
      },
      "source": [
        "smile = lambda a : a + \":)\""
      ],
      "execution_count": null,
      "outputs": []
    },
    {
      "cell_type": "code",
      "metadata": {
        "id": "9eKl60IwAuET",
        "outputId": "07689f10-56c5-4118-b1a5-064dce0be217"
      },
      "source": [
        "smile(\"hello \")"
      ],
      "execution_count": null,
      "outputs": [
        {
          "data": {
            "text/plain": [
              "'hello :)'"
            ]
          },
          "execution_count": 16,
          "metadata": {},
          "output_type": "execute_result"
        }
      ]
    },
    {
      "cell_type": "code",
      "metadata": {
        "id": "_JBo1kg8AuEU"
      },
      "source": [
        "def x() :\n",
        "    return 1, 2, 3, 4"
      ],
      "execution_count": null,
      "outputs": []
    },
    {
      "cell_type": "code",
      "metadata": {
        "id": "tCtWpUNoAuEU",
        "outputId": "7b7236fa-b6c3-49b9-edc0-acbd9334bd66"
      },
      "source": [
        "type(x())"
      ],
      "execution_count": null,
      "outputs": [
        {
          "data": {
            "text/plain": [
              "tuple"
            ]
          },
          "execution_count": 18,
          "metadata": {},
          "output_type": "execute_result"
        }
      ]
    },
    {
      "cell_type": "code",
      "metadata": {
        "id": "kvL8oBDRAuEV",
        "outputId": "6a4458f8-8ea4-4f2c-90ae-2ba15ca0c9cb"
      },
      "source": [
        "x()"
      ],
      "execution_count": null,
      "outputs": [
        {
          "data": {
            "text/plain": [
              "(1, 2, 3, 4)"
            ]
          },
          "execution_count": 19,
          "metadata": {},
          "output_type": "execute_result"
        }
      ]
    },
    {
      "cell_type": "code",
      "metadata": {
        "id": "UxFyX4amAuEW"
      },
      "source": [
        "a, b, c, d = x()"
      ],
      "execution_count": null,
      "outputs": []
    },
    {
      "cell_type": "code",
      "metadata": {
        "id": "pdi6f-LWAuEW",
        "outputId": "61a2fe06-e7b1-4d49-c622-573abe7afeb3"
      },
      "source": [
        "a"
      ],
      "execution_count": null,
      "outputs": [
        {
          "data": {
            "text/plain": [
              "1"
            ]
          },
          "execution_count": 21,
          "metadata": {},
          "output_type": "execute_result"
        }
      ]
    },
    {
      "cell_type": "code",
      "metadata": {
        "id": "51lScIRmAuEX",
        "outputId": "3a9194c5-241e-4206-e873-ef0f42534d4a"
      },
      "source": [
        "b"
      ],
      "execution_count": null,
      "outputs": [
        {
          "data": {
            "text/plain": [
              "2"
            ]
          },
          "execution_count": 22,
          "metadata": {},
          "output_type": "execute_result"
        }
      ]
    },
    {
      "cell_type": "code",
      "metadata": {
        "id": "ly0WCzj2AuEX",
        "outputId": "7b2720ca-500f-44d7-a453-0a662192f3fc"
      },
      "source": [
        "c"
      ],
      "execution_count": null,
      "outputs": [
        {
          "data": {
            "text/plain": [
              "3"
            ]
          },
          "execution_count": 23,
          "metadata": {},
          "output_type": "execute_result"
        }
      ]
    },
    {
      "cell_type": "code",
      "metadata": {
        "id": "1fMgSDY_AuEY",
        "outputId": "6b3fabb7-8bc4-4b4c-d672-ad7d180ef379"
      },
      "source": [
        "for i in x() :\n",
        "    print(i)"
      ],
      "execution_count": null,
      "outputs": [
        {
          "name": "stdout",
          "output_type": "stream",
          "text": [
            "1\n",
            "2\n",
            "3\n",
            "4\n"
          ]
        }
      ]
    },
    {
      "cell_type": "code",
      "metadata": {
        "id": "p-qNMTJRAuEY"
      },
      "source": [
        "num = [1,4,4]"
      ],
      "execution_count": null,
      "outputs": []
    },
    {
      "cell_type": "code",
      "metadata": {
        "id": "GH5lwopTAuEY",
        "outputId": "520632f7-5ffe-4788-98d8-17cac012e6ce"
      },
      "source": [
        "max(num, key = num.count)"
      ],
      "execution_count": null,
      "outputs": [
        {
          "data": {
            "text/plain": [
              "4"
            ]
          },
          "execution_count": 28,
          "metadata": {},
          "output_type": "execute_result"
        }
      ]
    },
    {
      "cell_type": "code",
      "metadata": {
        "id": "y73ApXWEAuEY",
        "outputId": "58e2d46d-5635-4a2d-b956-9307b36b9144"
      },
      "source": [
        "num.count(4)"
      ],
      "execution_count": null,
      "outputs": [
        {
          "data": {
            "text/plain": [
              "2"
            ]
          },
          "execution_count": 30,
          "metadata": {},
          "output_type": "execute_result"
        }
      ]
    },
    {
      "cell_type": "code",
      "metadata": {
        "id": "K3XKam8aAuEZ"
      },
      "source": [
        "def equal(a, b, c) :\n",
        "    numbers = [a, b, c]\n",
        "    \n",
        "    res = numbers.count(max(numbers, key = numbers.count))\n",
        "    \n",
        "    if res > 1 :\n",
        "        return res\n",
        "    else :\n",
        "        return 0"
      ],
      "execution_count": null,
      "outputs": []
    },
    {
      "cell_type": "code",
      "metadata": {
        "id": "9OuOSGfaAuEZ",
        "outputId": "8d07ce2d-3f5d-4010-9153-106ab79dad1d"
      },
      "source": [
        "equal(1,4,4)"
      ],
      "execution_count": null,
      "outputs": [
        {
          "data": {
            "text/plain": [
              "2"
            ]
          },
          "execution_count": 32,
          "metadata": {},
          "output_type": "execute_result"
        }
      ]
    },
    {
      "cell_type": "code",
      "metadata": {
        "id": "7cOik0lrAuEZ",
        "outputId": "c932fab5-ff29-4d01-c9ef-ce088d787ac1"
      },
      "source": [
        "equal(1,1,1)"
      ],
      "execution_count": null,
      "outputs": [
        {
          "data": {
            "text/plain": [
              "3"
            ]
          },
          "execution_count": 33,
          "metadata": {},
          "output_type": "execute_result"
        }
      ]
    },
    {
      "cell_type": "code",
      "metadata": {
        "id": "Pt-Cd4ClAuEZ",
        "outputId": "ce51c63e-197d-425a-84f1-edf28ed6de67"
      },
      "source": [
        "equal(1,2,3)"
      ],
      "execution_count": null,
      "outputs": [
        {
          "data": {
            "text/plain": [
              "0"
            ]
          },
          "execution_count": 34,
          "metadata": {},
          "output_type": "execute_result"
        }
      ]
    },
    {
      "cell_type": "code",
      "metadata": {
        "id": "copNfGqfAuEZ"
      },
      "source": [
        "def equall(* arg) :\n",
        "    numbers = list(arg)\n",
        "    \n",
        "    res = numbers.count(max(numbers, key = numbers.count))\n",
        "    \n",
        "    if res > 1 :\n",
        "        return res\n",
        "    else :\n",
        "        return 0"
      ],
      "execution_count": null,
      "outputs": []
    },
    {
      "cell_type": "code",
      "metadata": {
        "id": "q-ecNKksAuEa",
        "outputId": "e5465b97-8547-40e0-be77-2aef04ef0c56"
      },
      "source": [
        "equall(1,2,2,2,4)"
      ],
      "execution_count": null,
      "outputs": [
        {
          "data": {
            "text/plain": [
              "3"
            ]
          },
          "execution_count": 38,
          "metadata": {},
          "output_type": "execute_result"
        }
      ]
    },
    {
      "cell_type": "code",
      "metadata": {
        "id": "R8EBkF96AuEa"
      },
      "source": [
        "equalabmda = lambda x, y, z : [x, y, z].count(max([x, y, z], key = [x, y, z].count)) "
      ],
      "execution_count": null,
      "outputs": []
    },
    {
      "cell_type": "code",
      "metadata": {
        "id": "6TT_S6oDAuEa"
      },
      "source": [
        "# res if res > 1 else 0"
      ],
      "execution_count": null,
      "outputs": []
    },
    {
      "cell_type": "code",
      "metadata": {
        "id": "JZ77GSjEAuEa"
      },
      "source": [
        "equalabmda = lambda x, y, z : [x, y, z].count(max([x, y, z], key = [x, y, z].count))\\\n",
        "if [x, y, z].count(max([x, y, z], key = [x, y, z].count)) > 1 else 0"
      ],
      "execution_count": null,
      "outputs": []
    },
    {
      "cell_type": "code",
      "metadata": {
        "id": "cOFEXnVvAuEa",
        "outputId": "c45d942e-46c6-42b9-8b2a-06dacfb38527"
      },
      "source": [
        "1 if True else 0"
      ],
      "execution_count": null,
      "outputs": [
        {
          "data": {
            "text/plain": [
              "1"
            ]
          },
          "execution_count": 39,
          "metadata": {},
          "output_type": "execute_result"
        }
      ]
    },
    {
      "cell_type": "code",
      "metadata": {
        "id": "1aguhLxTAuEb"
      },
      "source": [
        "# body_if if condition else body_else"
      ],
      "execution_count": null,
      "outputs": []
    },
    {
      "cell_type": "code",
      "metadata": {
        "id": "u1wIbP8wAuEb",
        "outputId": "d44febd3-8f26-4ef6-ea40-47b440763e61"
      },
      "source": [
        "equalabmda(1,4,4)"
      ],
      "execution_count": null,
      "outputs": [
        {
          "data": {
            "text/plain": [
              "2"
            ]
          },
          "execution_count": 41,
          "metadata": {},
          "output_type": "execute_result"
        }
      ]
    },
    {
      "cell_type": "code",
      "metadata": {
        "id": "2xlDEw3MAuEb"
      },
      "source": [
        "equalabmdaa = lambda *x : list(x).count(max(list(x), key = list(x).count))\\\n",
        "if list(x).count(max(list(x), key = list(x).count)) > 1 else 0"
      ],
      "execution_count": null,
      "outputs": []
    },
    {
      "cell_type": "code",
      "metadata": {
        "id": "mxDoD2nzAuEb",
        "outputId": "2cd2304e-1925-4b69-cf2f-c7e940ab5b2a"
      },
      "source": [
        "equalabmdaa(1,2,2,2,4)"
      ],
      "execution_count": null,
      "outputs": [
        {
          "data": {
            "text/plain": [
              "3"
            ]
          },
          "execution_count": 43,
          "metadata": {},
          "output_type": "execute_result"
        }
      ]
    },
    {
      "cell_type": "code",
      "metadata": {
        "id": "PuwFuIBDAuEb"
      },
      "source": [
        "function_generator()"
      ],
      "execution_count": null,
      "outputs": []
    },
    {
      "cell_type": "code",
      "metadata": {
        "id": "GtpTAh4qAuEc"
      },
      "source": [
        "myPrint() = function_generator(print)\n",
        "myMax() = function_generator(max)\n",
        "myBool() = function_generator(bool)\n",
        "mySorted() = function_generator(sorted)"
      ],
      "execution_count": null,
      "outputs": []
    },
    {
      "cell_type": "code",
      "metadata": {
        "id": "iknHi0t5AuEc"
      },
      "source": [
        "def function_generator(function) :\n",
        "    return lambda x : function(x)"
      ],
      "execution_count": null,
      "outputs": []
    },
    {
      "cell_type": "code",
      "metadata": {
        "id": "uItE8P3hAuEc",
        "outputId": "dc5161f9-d627-4eff-9b23-d10e3bf9a51c"
      },
      "source": [
        "(lambda x : print(x))(\"beni yazdır\")"
      ],
      "execution_count": null,
      "outputs": [
        {
          "name": "stdout",
          "output_type": "stream",
          "text": [
            "beni yazdır\n"
          ]
        }
      ]
    },
    {
      "cell_type": "code",
      "metadata": {
        "id": "27TLCrmaAuEc",
        "outputId": "c0fc92e3-8334-4802-834e-70821e0ff8ef"
      },
      "source": [
        "(lambda x : max(x))([1,2,34])"
      ],
      "execution_count": null,
      "outputs": [
        {
          "data": {
            "text/plain": [
              "34"
            ]
          },
          "execution_count": 45,
          "metadata": {},
          "output_type": "execute_result"
        }
      ]
    },
    {
      "cell_type": "code",
      "metadata": {
        "id": "U4CGD9x3AuEc",
        "outputId": "8a5df73d-4f92-4f92-fabb-dd1649859514"
      },
      "source": [
        "(lambda x : bool(x))(\"beni yazdır\")"
      ],
      "execution_count": null,
      "outputs": [
        {
          "data": {
            "text/plain": [
              "True"
            ]
          },
          "execution_count": 46,
          "metadata": {},
          "output_type": "execute_result"
        }
      ]
    },
    {
      "cell_type": "code",
      "metadata": {
        "id": "TR9QN3q_AuEd"
      },
      "source": [
        "myPrint = function_generator(print)"
      ],
      "execution_count": null,
      "outputs": []
    },
    {
      "cell_type": "code",
      "metadata": {
        "id": "QeBwCC2qAuEd",
        "outputId": "2c154a4b-624b-448e-bc91-7a466310f1e8"
      },
      "source": [
        "myPrint(\"artık istediğini yazdır\")"
      ],
      "execution_count": null,
      "outputs": [
        {
          "name": "stdout",
          "output_type": "stream",
          "text": [
            "artık istediğini yazdır\n"
          ]
        }
      ]
    },
    {
      "cell_type": "code",
      "metadata": {
        "id": "1_vfy_p7AuEd"
      },
      "source": [
        "myBool = function_generator(bool)"
      ],
      "execution_count": null,
      "outputs": []
    },
    {
      "cell_type": "code",
      "metadata": {
        "id": "wImEQvYJAuEd",
        "outputId": "0a202f61-3918-4bd5-d5d1-c473f70ff3ab"
      },
      "source": [
        "myBool(\"\")"
      ],
      "execution_count": null,
      "outputs": [
        {
          "data": {
            "text/plain": [
              "False"
            ]
          },
          "execution_count": 51,
          "metadata": {},
          "output_type": "execute_result"
        }
      ]
    },
    {
      "cell_type": "code",
      "metadata": {
        "id": "HaamLuTjAuEd"
      },
      "source": [
        "import math"
      ],
      "execution_count": null,
      "outputs": []
    },
    {
      "cell_type": "code",
      "metadata": {
        "id": "1msmICjuAuEd",
        "outputId": "3d47446a-90f7-4f28-a470-9fae42a79345"
      },
      "source": [
        "print(dir(math))"
      ],
      "execution_count": null,
      "outputs": [
        {
          "name": "stdout",
          "output_type": "stream",
          "text": [
            "['__doc__', '__loader__', '__name__', '__package__', '__spec__', 'acos', 'acosh', 'asin', 'asinh', 'atan', 'atan2', 'atanh', 'ceil', 'copysign', 'cos', 'cosh', 'degrees', 'e', 'erf', 'erfc', 'exp', 'expm1', 'fabs', 'factorial', 'floor', 'fmod', 'frexp', 'fsum', 'gamma', 'gcd', 'hypot', 'inf', 'isclose', 'isfinite', 'isinf', 'isnan', 'ldexp', 'lgamma', 'log', 'log10', 'log1p', 'log2', 'modf', 'nan', 'pi', 'pow', 'radians', 'remainder', 'sin', 'sinh', 'sqrt', 'tan', 'tanh', 'tau', 'trunc']\n"
          ]
        }
      ]
    },
    {
      "cell_type": "code",
      "metadata": {
        "id": "Wt9kxxzlAuEe"
      },
      "source": [
        "from math import pi, factorial, log10"
      ],
      "execution_count": null,
      "outputs": []
    },
    {
      "cell_type": "code",
      "metadata": {
        "id": "GomPR8iLAuEe",
        "outputId": "2082929a-1b56-4208-b1f7-721a8e248cde"
      },
      "source": [
        "pi"
      ],
      "execution_count": null,
      "outputs": [
        {
          "data": {
            "text/plain": [
              "3.141592653589793"
            ]
          },
          "execution_count": 55,
          "metadata": {},
          "output_type": "execute_result"
        }
      ]
    },
    {
      "cell_type": "code",
      "metadata": {
        "id": "iatA0caJAuEe",
        "outputId": "f80d5f12-2f1d-49fa-c8b7-fa1e5348a886"
      },
      "source": [
        "factorial(4)"
      ],
      "execution_count": null,
      "outputs": [
        {
          "data": {
            "text/plain": [
              "24"
            ]
          },
          "execution_count": 56,
          "metadata": {},
          "output_type": "execute_result"
        }
      ]
    },
    {
      "cell_type": "code",
      "metadata": {
        "id": "mSeODrHUAuEe",
        "outputId": "5c874419-f743-4ce9-abc2-cbf8edfff798"
      },
      "source": [
        "log10(1000)"
      ],
      "execution_count": null,
      "outputs": [
        {
          "data": {
            "text/plain": [
              "3.0"
            ]
          },
          "execution_count": 57,
          "metadata": {},
          "output_type": "execute_result"
        }
      ]
    },
    {
      "cell_type": "code",
      "metadata": {
        "id": "PWUn65Q6AuEe"
      },
      "source": [
        "import string"
      ],
      "execution_count": null,
      "outputs": []
    },
    {
      "cell_type": "code",
      "metadata": {
        "id": "duKGccIGAuEe",
        "outputId": "9e1c2fe0-3a75-4e08-d6a8-1e4d954beb4f"
      },
      "source": [
        "dir(string)"
      ],
      "execution_count": null,
      "outputs": [
        {
          "data": {
            "text/plain": [
              "['Formatter',\n",
              " 'Template',\n",
              " '_ChainMap',\n",
              " '_TemplateMetaclass',\n",
              " '__all__',\n",
              " '__builtins__',\n",
              " '__cached__',\n",
              " '__doc__',\n",
              " '__file__',\n",
              " '__loader__',\n",
              " '__name__',\n",
              " '__package__',\n",
              " '__spec__',\n",
              " '_re',\n",
              " '_string',\n",
              " 'ascii_letters',\n",
              " 'ascii_lowercase',\n",
              " 'ascii_uppercase',\n",
              " 'capwords',\n",
              " 'digits',\n",
              " 'hexdigits',\n",
              " 'octdigits',\n",
              " 'printable',\n",
              " 'punctuation',\n",
              " 'whitespace']"
            ]
          },
          "execution_count": 59,
          "metadata": {},
          "output_type": "execute_result"
        }
      ]
    },
    {
      "cell_type": "code",
      "metadata": {
        "id": "SnOXaPzQAuEf",
        "outputId": "c4e6f36c-9494-4f5d-fe4c-c861b699593b"
      },
      "source": [
        "string.punctuation"
      ],
      "execution_count": null,
      "outputs": [
        {
          "data": {
            "text/plain": [
              "'!\"#$%&\\'()*+,-./:;<=>?@[\\\\]^_`{|}~'"
            ]
          },
          "execution_count": 60,
          "metadata": {},
          "output_type": "execute_result"
        }
      ]
    },
    {
      "cell_type": "code",
      "metadata": {
        "id": "RB80ex3pAuEf",
        "outputId": "394151c7-9601-4d48-faef-7f44eb40066f"
      },
      "source": [
        "string.digits"
      ],
      "execution_count": null,
      "outputs": [
        {
          "data": {
            "text/plain": [
              "'0123456789'"
            ]
          },
          "execution_count": 61,
          "metadata": {},
          "output_type": "execute_result"
        }
      ]
    },
    {
      "cell_type": "code",
      "metadata": {
        "id": "Wcmj4eugAuEf"
      },
      "source": [
        "import datetime"
      ],
      "execution_count": null,
      "outputs": []
    },
    {
      "cell_type": "code",
      "metadata": {
        "id": "Qp0gP_4vAuEf",
        "outputId": "8616e304-e000-45da-b602-b40c16e4f0bf"
      },
      "source": [
        "print(datetime.date.today())"
      ],
      "execution_count": null,
      "outputs": [
        {
          "name": "stdout",
          "output_type": "stream",
          "text": [
            "2021-08-18\n"
          ]
        }
      ]
    },
    {
      "cell_type": "code",
      "metadata": {
        "id": "OkyeS8kXAuEf",
        "outputId": "ee28276c-9c9c-4f34-d15d-7c61f7ef0f03"
      },
      "source": [
        "print(datetime.datetime.now())"
      ],
      "execution_count": null,
      "outputs": [
        {
          "name": "stdout",
          "output_type": "stream",
          "text": [
            "2021-08-18 22:55:07.757862\n"
          ]
        }
      ]
    },
    {
      "cell_type": "code",
      "metadata": {
        "id": "PG5EfPKyAuEg"
      },
      "source": [
        "from datetime import date"
      ],
      "execution_count": null,
      "outputs": []
    },
    {
      "cell_type": "code",
      "metadata": {
        "id": "dtMCLSMAAuEg"
      },
      "source": [
        "birth = date(571, 4, 22)"
      ],
      "execution_count": null,
      "outputs": []
    },
    {
      "cell_type": "code",
      "metadata": {
        "id": "-gfeKeXkAuEg",
        "outputId": "e2828d53-9e82-4378-bc08-c812a4a48791"
      },
      "source": [
        "birth"
      ],
      "execution_count": null,
      "outputs": [
        {
          "data": {
            "text/plain": [
              "datetime.date(571, 4, 22)"
            ]
          },
          "execution_count": 71,
          "metadata": {},
          "output_type": "execute_result"
        }
      ]
    },
    {
      "cell_type": "code",
      "metadata": {
        "id": "u6Lcu8LZAuEg"
      },
      "source": [
        "death = date(632, 6, 8)"
      ],
      "execution_count": null,
      "outputs": []
    },
    {
      "cell_type": "code",
      "metadata": {
        "id": "7QVuPMxeAuEg",
        "outputId": "e2c775e5-d8bc-42bc-955f-3386cf48e4e1"
      },
      "source": [
        "death"
      ],
      "execution_count": null,
      "outputs": [
        {
          "data": {
            "text/plain": [
              "datetime.date(632, 6, 8)"
            ]
          },
          "execution_count": 73,
          "metadata": {},
          "output_type": "execute_result"
        }
      ]
    },
    {
      "cell_type": "code",
      "metadata": {
        "id": "rJ6YR2tQAuEg",
        "outputId": "0d8575c7-a91b-4cf7-e552-fa5240114747"
      },
      "source": [
        "death - birth"
      ],
      "execution_count": null,
      "outputs": [
        {
          "data": {
            "text/plain": [
              "datetime.timedelta(days=22327)"
            ]
          },
          "execution_count": 74,
          "metadata": {},
          "output_type": "execute_result"
        }
      ]
    },
    {
      "cell_type": "code",
      "metadata": {
        "id": "Ws2286_YAuEg",
        "outputId": "b7700fa0-e38c-4e14-cc3f-42b61779f08a"
      },
      "source": [
        "date.toordinal(death) - date.toordinal(birth)"
      ],
      "execution_count": null,
      "outputs": [
        {
          "data": {
            "text/plain": [
              "22327"
            ]
          },
          "execution_count": 75,
          "metadata": {},
          "output_type": "execute_result"
        }
      ]
    },
    {
      "cell_type": "code",
      "metadata": {
        "id": "LCbUI5XUAuEh"
      },
      "source": [
        ""
      ],
      "execution_count": null,
      "outputs": []
    }
  ]
}