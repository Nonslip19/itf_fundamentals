{
  "nbformat": 4,
  "nbformat_minor": 5,
  "metadata": {
    "kernelspec": {
      "display_name": "Python 3",
      "language": "python",
      "name": "python3"
    },
    "language_info": {
      "codemirror_mode": {
        "name": "ipython",
        "version": 3
      },
      "file_extension": ".py",
      "mimetype": "text/x-python",
      "name": "python",
      "nbconvert_exporter": "python",
      "pygments_lexer": "ipython3",
      "version": "3.8.8"
    },
    "colab": {
      "name": "22_PythonBasic_2-September-2021.ipynb",
      "provenance": [],
      "include_colab_link": true
    }
  },
  "cells": [
    {
      "cell_type": "markdown",
      "metadata": {
        "id": "view-in-github",
        "colab_type": "text"
      },
      "source": [
        "<a href=\"https://colab.research.google.com/github/Nonslip19/itf_fundamentals/blob/main/22_PythonBasic_2_September_2021.ipynb\" target=\"_parent\"><img src=\"https://colab.research.google.com/assets/colab-badge.svg\" alt=\"Open In Colab\"/></a>"
      ]
    },
    {
      "cell_type": "markdown",
      "metadata": {
        "id": "406f2981"
      },
      "source": [
        "<img src=\"https://docs.google.com/uc?id=14xeXxFrVRjvOoUYWn_GuyE-v84wVzrqr\" class=\"img-fluid\" alt=\"CLRWY\" width=\"400\" height=\"200\">"
      ],
      "id": "406f2981"
    },
    {
      "cell_type": "markdown",
      "metadata": {
        "id": "22263af8"
      },
      "source": [
        "<h1><p style=\"text-align: center; color:darkblue\">Python + In-Class, <br>2 September 2021</p><h1>"
      ],
      "id": "22263af8"
    },
    {
      "cell_type": "code",
      "metadata": {
        "id": "4a17f2dd"
      },
      "source": [
        "word = {1 : \"1\", 2 : \"2\"}"
      ],
      "id": "4a17f2dd",
      "execution_count": null,
      "outputs": []
    },
    {
      "cell_type": "code",
      "metadata": {
        "id": "0823e311"
      },
      "source": [
        "keys = word.keys()"
      ],
      "id": "0823e311",
      "execution_count": null,
      "outputs": []
    },
    {
      "cell_type": "code",
      "metadata": {
        "id": "0e361d9c",
        "outputId": "a2c0a6f7-8beb-4f85-f6a1-7cc8cccffc14"
      },
      "source": [
        "keys"
      ],
      "id": "0e361d9c",
      "execution_count": null,
      "outputs": [
        {
          "data": {
            "text/plain": [
              "dict_keys([1, 2])"
            ]
          },
          "execution_count": 3,
          "metadata": {},
          "output_type": "execute_result"
        }
      ]
    },
    {
      "cell_type": "code",
      "metadata": {
        "id": "81c038eb"
      },
      "source": [
        "word_1 = {}"
      ],
      "id": "81c038eb",
      "execution_count": null,
      "outputs": []
    },
    {
      "cell_type": "code",
      "metadata": {
        "id": "bab09e30"
      },
      "source": [
        "word_1[3] = 1"
      ],
      "id": "bab09e30",
      "execution_count": null,
      "outputs": []
    },
    {
      "cell_type": "code",
      "metadata": {
        "id": "96ed502b",
        "outputId": "6ea8a82c-446b-4cb7-b7bf-537a799a1c67"
      },
      "source": [
        "word_1"
      ],
      "id": "96ed502b",
      "execution_count": null,
      "outputs": [
        {
          "data": {
            "text/plain": [
              "{3: 1}"
            ]
          },
          "execution_count": 6,
          "metadata": {},
          "output_type": "execute_result"
        }
      ]
    },
    {
      "cell_type": "code",
      "metadata": {
        "id": "af4118c2"
      },
      "source": [
        "word_1[1] = 1"
      ],
      "id": "af4118c2",
      "execution_count": null,
      "outputs": []
    },
    {
      "cell_type": "code",
      "metadata": {
        "id": "2489ade8",
        "outputId": "8de927db-da14-4a1a-80a7-5be37c77e6fe"
      },
      "source": [
        "word_1"
      ],
      "id": "2489ade8",
      "execution_count": null,
      "outputs": [
        {
          "data": {
            "text/plain": [
              "{3: 1, 1: 1}"
            ]
          },
          "execution_count": 9,
          "metadata": {},
          "output_type": "execute_result"
        }
      ]
    },
    {
      "cell_type": "code",
      "metadata": {
        "id": "a739e0a7"
      },
      "source": [
        "word_1[3] += 1"
      ],
      "id": "a739e0a7",
      "execution_count": null,
      "outputs": []
    },
    {
      "cell_type": "code",
      "metadata": {
        "id": "509bd768",
        "outputId": "b8ee6695-2349-421e-cd10-3759fec21b2a"
      },
      "source": [
        "word_1"
      ],
      "id": "509bd768",
      "execution_count": null,
      "outputs": [
        {
          "data": {
            "text/plain": [
              "{3: 2, 1: 1}"
            ]
          },
          "execution_count": 12,
          "metadata": {},
          "output_type": "execute_result"
        }
      ]
    },
    {
      "cell_type": "code",
      "metadata": {
        "id": "4e7c7e7a"
      },
      "source": [
        "word_1[3] += 1"
      ],
      "id": "4e7c7e7a",
      "execution_count": null,
      "outputs": []
    },
    {
      "cell_type": "code",
      "metadata": {
        "id": "42229e7e",
        "outputId": "c42e774e-00b2-4ca1-a2b4-b13388418774"
      },
      "source": [
        "word_1"
      ],
      "id": "42229e7e",
      "execution_count": null,
      "outputs": [
        {
          "data": {
            "text/plain": [
              "{3: 3, 1: 1}"
            ]
          },
          "execution_count": 14,
          "metadata": {},
          "output_type": "execute_result"
        }
      ]
    },
    {
      "cell_type": "code",
      "metadata": {
        "id": "749d5b29"
      },
      "source": [
        "word_1[\"ali\"] = 22"
      ],
      "id": "749d5b29",
      "execution_count": null,
      "outputs": []
    },
    {
      "cell_type": "code",
      "metadata": {
        "id": "466bd2e3",
        "outputId": "9a8e47d8-ca8a-4ecd-e5f6-2d244a6563e6"
      },
      "source": [
        "word_1"
      ],
      "id": "466bd2e3",
      "execution_count": null,
      "outputs": [
        {
          "data": {
            "text/plain": [
              "{3: 3, 1: 1, 'ali': 22}"
            ]
          },
          "execution_count": 18,
          "metadata": {},
          "output_type": "execute_result"
        }
      ]
    },
    {
      "cell_type": "code",
      "metadata": {
        "id": "de5f8dae",
        "outputId": "ddd930bb-a0cf-4ed9-83f6-44beb272b609"
      },
      "source": [
        "\"ali\" in word_1"
      ],
      "id": "de5f8dae",
      "execution_count": null,
      "outputs": [
        {
          "data": {
            "text/plain": [
              "True"
            ]
          },
          "execution_count": 19,
          "metadata": {},
          "output_type": "execute_result"
        }
      ]
    },
    {
      "cell_type": "code",
      "metadata": {
        "id": "c04feb1e"
      },
      "source": [
        "string = \"bugün ayrılıktan bir önceki session..\""
      ],
      "id": "c04feb1e",
      "execution_count": null,
      "outputs": []
    },
    {
      "cell_type": "code",
      "metadata": {
        "id": "409725a5"
      },
      "source": [
        "word_dict = {}"
      ],
      "id": "409725a5",
      "execution_count": null,
      "outputs": []
    },
    {
      "cell_type": "code",
      "metadata": {
        "id": "0c5671a4"
      },
      "source": [
        "for n in string :\n",
        "    \n",
        "    keys = word_dict.keys()\n",
        "    \n",
        "    if n in word_dict :\n",
        "        word_dict[n] += 1\n",
        "    else :\n",
        "        word_dict[n] = 1"
      ],
      "id": "0c5671a4",
      "execution_count": null,
      "outputs": []
    },
    {
      "cell_type": "code",
      "metadata": {
        "id": "f327158f",
        "outputId": "b35b28be-b363-4813-c391-2ae8bef5c445"
      },
      "source": [
        "print(word_dict)"
      ],
      "id": "f327158f",
      "execution_count": null,
      "outputs": [
        {
          "name": "stdout",
          "output_type": "stream",
          "text": [
            "{'b': 2, 'u': 1, 'g': 1, 'ü': 1, 'n': 4, ' ': 4, 'a': 2, 'y': 1, 'r': 2, 'ı': 2, 'l': 1, 'k': 2, 't': 1, 'i': 3, 'ö': 1, 'c': 1, 'e': 2, 's': 3, 'o': 1, '.': 2}\n"
          ]
        }
      ]
    },
    {
      "cell_type": "code",
      "metadata": {
        "id": "17b97849"
      },
      "source": [
        "veri = [\"a\", \"b\", True, (False, 1), {\"1\" : 2}, [1,2], {\"2\" : \"two\"}, {2, \"3\"}, \"c\", 23, 0]"
      ],
      "id": "17b97849",
      "execution_count": null,
      "outputs": []
    },
    {
      "cell_type": "code",
      "metadata": {
        "id": "c1ca3784"
      },
      "source": [
        "{\"bool\" : 1, \"int\" : 2, \"list\" : 1, \"tuple\" : 1, \"str\" : 3}"
      ],
      "id": "c1ca3784",
      "execution_count": null,
      "outputs": []
    },
    {
      "cell_type": "code",
      "metadata": {
        "id": "24fe566d"
      },
      "source": [
        "tipler = [\"int\", \"str\", \"bool\", \"list\", \"tuple\", \"dict\", \"set\"]"
      ],
      "id": "24fe566d",
      "execution_count": null,
      "outputs": []
    },
    {
      "cell_type": "code",
      "metadata": {
        "id": "a6b03671",
        "outputId": "50ca38aa-7844-4ee5-ff25-a5625aaae0ed"
      },
      "source": [
        "{}.fromkeys(tipler, 0)"
      ],
      "id": "a6b03671",
      "execution_count": null,
      "outputs": [
        {
          "data": {
            "text/plain": [
              "{'int': 0, 'str': 0, 'bool': 0, 'list': 0, 'tuple': 0, 'dict': 0, 'set': 0}"
            ]
          },
          "execution_count": 25,
          "metadata": {},
          "output_type": "execute_result"
        }
      ]
    },
    {
      "cell_type": "code",
      "metadata": {
        "id": "23fbcd91"
      },
      "source": [
        "toplam = {}.fromkeys(tipler, 0)"
      ],
      "id": "23fbcd91",
      "execution_count": null,
      "outputs": []
    },
    {
      "cell_type": "code",
      "metadata": {
        "id": "1b8cb002",
        "outputId": "d5f7132d-914c-4bde-ec19-b26398a2cc8d"
      },
      "source": [
        "toplam"
      ],
      "id": "1b8cb002",
      "execution_count": null,
      "outputs": [
        {
          "data": {
            "text/plain": [
              "{'int': 0, 'str': 0, 'bool': 0, 'list': 0, 'tuple': 0, 'dict': 0, 'set': 0}"
            ]
          },
          "execution_count": 27,
          "metadata": {},
          "output_type": "execute_result"
        }
      ]
    },
    {
      "cell_type": "code",
      "metadata": {
        "id": "726b13d6",
        "outputId": "3bca4c84-1706-47b2-9a04-576e9006356a"
      },
      "source": [
        "len(veri)"
      ],
      "id": "726b13d6",
      "execution_count": null,
      "outputs": [
        {
          "data": {
            "text/plain": [
              "11"
            ]
          },
          "execution_count": 28,
          "metadata": {},
          "output_type": "execute_result"
        }
      ]
    },
    {
      "cell_type": "code",
      "metadata": {
        "id": "c4bd873b",
        "outputId": "3414aa55-a7d2-4ed3-c6a3-b743b8c58092"
      },
      "source": [
        "type(veri[0])"
      ],
      "id": "c4bd873b",
      "execution_count": null,
      "outputs": [
        {
          "data": {
            "text/plain": [
              "str"
            ]
          },
          "execution_count": 30,
          "metadata": {},
          "output_type": "execute_result"
        }
      ]
    },
    {
      "cell_type": "code",
      "metadata": {
        "id": "6a4728b8"
      },
      "source": [
        "for i in range(len(veri)) :\n",
        "    if type(veri[i]) == int : toplam[\"int\"] += 1\n",
        "    elif type(veri[i]) == str : toplam[\"str\"] += 1\n",
        "    elif type(veri[i]) == bool : toplam[\"bool\"] += 1\n",
        "    elif type(veri[i]) == list : toplam[\"list\"] += 1\n",
        "    elif type(veri[i]) == tuple : toplam[\"tuple\"] += 1\n",
        "    elif type(veri[i]) == dict : toplam[\"dict\"] += 1\n",
        "    elif type(veri[i]) == set : toplam[\"set\"] += 1"
      ],
      "id": "6a4728b8",
      "execution_count": null,
      "outputs": []
    },
    {
      "cell_type": "code",
      "metadata": {
        "id": "02711248",
        "outputId": "c6ca5e01-946b-495a-aeb8-73faf4bad880"
      },
      "source": [
        "toplam"
      ],
      "id": "02711248",
      "execution_count": null,
      "outputs": [
        {
          "data": {
            "text/plain": [
              "{'int': 2, 'str': 3, 'bool': 1, 'list': 1, 'tuple': 1, 'dict': 2, 'set': 1}"
            ]
          },
          "execution_count": 32,
          "metadata": {},
          "output_type": "execute_result"
        }
      ]
    },
    {
      "cell_type": "markdown",
      "metadata": {
        "id": "d266a7a9"
      },
      "source": [
        "## OBEB (Ortak Bölenlerin En Büyüğü)"
      ],
      "id": "d266a7a9"
    },
    {
      "cell_type": "code",
      "metadata": {
        "id": "aeed15d2"
      },
      "source": [
        "def obeb(a, b) :\n",
        "    \n",
        "    \"\"\"ilk parametreyi büyük olan sayı olarak giriniz\"\"\"\n",
        "    \n",
        "    if b == 0 :\n",
        "        return a\n",
        "    else :\n",
        "        return obeb(b, a % b)"
      ],
      "id": "aeed15d2",
      "execution_count": null,
      "outputs": []
    },
    {
      "cell_type": "code",
      "metadata": {
        "id": "4c46efeb",
        "outputId": "51beab8f-3e8f-4c6c-f440-d49f118cefb1"
      },
      "source": [
        "print(obeb.__doc__)"
      ],
      "id": "4c46efeb",
      "execution_count": null,
      "outputs": [
        {
          "name": "stdout",
          "output_type": "stream",
          "text": [
            "ilk parametreyi büyük olan sayı olarak giriniz\n"
          ]
        }
      ]
    },
    {
      "cell_type": "code",
      "metadata": {
        "id": "e4d198a8",
        "outputId": "4814937c-f235-449b-cf4d-dbbf0e70035f"
      },
      "source": [
        "obeb(65,25)"
      ],
      "id": "e4d198a8",
      "execution_count": null,
      "outputs": [
        {
          "data": {
            "text/plain": [
              "5"
            ]
          },
          "execution_count": 34,
          "metadata": {},
          "output_type": "execute_result"
        }
      ]
    },
    {
      "cell_type": "code",
      "metadata": {
        "id": "c16285a4",
        "outputId": "793b8d8c-d6c3-42bc-bbb0-9fc1b759bc3a"
      },
      "source": [
        "obeb(24,8)"
      ],
      "id": "c16285a4",
      "execution_count": null,
      "outputs": [
        {
          "data": {
            "text/plain": [
              "8"
            ]
          },
          "execution_count": 35,
          "metadata": {},
          "output_type": "execute_result"
        }
      ]
    },
    {
      "cell_type": "code",
      "metadata": {
        "id": "0f7c9938",
        "outputId": "e16a3d91-7207-40b0-d9dd-5604947c705b"
      },
      "source": [
        "obeb(55,25)"
      ],
      "id": "0f7c9938",
      "execution_count": null,
      "outputs": [
        {
          "data": {
            "text/plain": [
              "5"
            ]
          },
          "execution_count": 36,
          "metadata": {},
          "output_type": "execute_result"
        }
      ]
    },
    {
      "cell_type": "code",
      "metadata": {
        "id": "4620e451",
        "outputId": "87be04e8-bb3f-413a-bb4e-e53a42c004cf"
      },
      "source": [
        "obeb(44,30)"
      ],
      "id": "4620e451",
      "execution_count": null,
      "outputs": [
        {
          "data": {
            "text/plain": [
              "2"
            ]
          },
          "execution_count": 37,
          "metadata": {},
          "output_type": "execute_result"
        }
      ]
    },
    {
      "cell_type": "code",
      "metadata": {
        "id": "0a7ef562"
      },
      "source": [
        "def facto(n) :\n",
        "    \n",
        "    if n == 0 : return 1\n",
        "    else :\n",
        "        return n * facto(n - 1)"
      ],
      "id": "0a7ef562",
      "execution_count": null,
      "outputs": []
    },
    {
      "cell_type": "markdown",
      "metadata": {
        "id": "a6fb00be"
      },
      "source": [
        "## Given a list such `[1, 2, 3]` get an all possible output combinations"
      ],
      "id": "a6fb00be"
    },
    {
      "cell_type": "markdown",
      "metadata": {
        "id": "ae3a24d0"
      },
      "source": [
        "Output:\n",
        "```\n",
        "[\n",
        "  [1,2,3],\n",
        "  [1,3,2],\n",
        "  [2,1,3],\n",
        "  [2,3,1],\n",
        "  [3,1,2],\n",
        "  [3,2,1]\n",
        "]```"
      ],
      "id": "ae3a24d0"
    },
    {
      "cell_type": "code",
      "metadata": {
        "id": "cb9b3891"
      },
      "source": [
        "solution = [[]]"
      ],
      "id": "cb9b3891",
      "execution_count": null,
      "outputs": []
    },
    {
      "cell_type": "code",
      "metadata": {
        "id": "8803d74b"
      },
      "source": [
        "# solution - 1 = [[1], [2], [3]]\n",
        "\n",
        "# solution - 2 = [[1, 2], [1, 3], [2, 1], [2, 3], [3, 1], [3, 2]]\n",
        "\n",
        "# solution - 3 = [[1, 2, 3], [1, 3, 2], [2, 1, 3], [2, 3, 1], [3, 1, 2], [3, 2, 1]]"
      ],
      "id": "8803d74b",
      "execution_count": null,
      "outputs": []
    },
    {
      "cell_type": "code",
      "metadata": {
        "id": "47937118",
        "outputId": "3094ee25-6cab-4adf-8220-3614a2a4921b"
      },
      "source": [
        "for i in solution :\n",
        "    print(i)"
      ],
      "id": "47937118",
      "execution_count": null,
      "outputs": [
        {
          "name": "stdout",
          "output_type": "stream",
          "text": [
            "[]\n"
          ]
        }
      ]
    },
    {
      "cell_type": "code",
      "metadata": {
        "id": "50dafb58",
        "outputId": "334fa0de-6a6c-44e4-a8e3-65ae724f8965"
      },
      "source": [
        "len(solution)"
      ],
      "id": "50dafb58",
      "execution_count": null,
      "outputs": [
        {
          "data": {
            "text/plain": [
              "1"
            ]
          },
          "execution_count": 42,
          "metadata": {},
          "output_type": "execute_result"
        }
      ]
    },
    {
      "cell_type": "code",
      "metadata": {
        "id": "7da10c71"
      },
      "source": [
        "num = [1, 2, 3]"
      ],
      "id": "7da10c71",
      "execution_count": null,
      "outputs": []
    },
    {
      "cell_type": "code",
      "metadata": {
        "id": "b8628215"
      },
      "source": [
        "num_set = set(num)"
      ],
      "id": "b8628215",
      "execution_count": null,
      "outputs": []
    },
    {
      "cell_type": "code",
      "metadata": {
        "id": "c80b2ec0",
        "outputId": "36fb822c-54ce-49c9-cd15-813165e9d82a"
      },
      "source": [
        "num_set"
      ],
      "id": "c80b2ec0",
      "execution_count": null,
      "outputs": [
        {
          "data": {
            "text/plain": [
              "{1, 2, 3}"
            ]
          },
          "execution_count": 45,
          "metadata": {},
          "output_type": "execute_result"
        }
      ]
    },
    {
      "cell_type": "code",
      "metadata": {
        "id": "43254728",
        "outputId": "f6545df5-3da7-4954-e4eb-71a368565d9b"
      },
      "source": [
        "set([])"
      ],
      "id": "43254728",
      "execution_count": null,
      "outputs": [
        {
          "data": {
            "text/plain": [
              "set()"
            ]
          },
          "execution_count": 46,
          "metadata": {},
          "output_type": "execute_result"
        }
      ]
    },
    {
      "cell_type": "code",
      "metadata": {
        "id": "e28e3116",
        "outputId": "eae01b24-185d-471b-ee59-d824a3e96923"
      },
      "source": [
        "set_bos_list = set([])\n",
        "set_bos_list"
      ],
      "id": "e28e3116",
      "execution_count": null,
      "outputs": [
        {
          "data": {
            "text/plain": [
              "set()"
            ]
          },
          "execution_count": 47,
          "metadata": {},
          "output_type": "execute_result"
        }
      ]
    },
    {
      "cell_type": "code",
      "metadata": {
        "id": "ccdf11de",
        "outputId": "210b4671-0ab0-4691-9e75-c48c64344bdc"
      },
      "source": [
        "num_set - set_bos_list"
      ],
      "id": "ccdf11de",
      "execution_count": null,
      "outputs": [
        {
          "data": {
            "text/plain": [
              "{1, 2, 3}"
            ]
          },
          "execution_count": 48,
          "metadata": {},
          "output_type": "execute_result"
        }
      ]
    },
    {
      "cell_type": "code",
      "metadata": {
        "id": "9df47f5a",
        "outputId": "0eff4267-b0c6-49f0-d26f-eea42cb92e39"
      },
      "source": [
        "num_set - set([1])"
      ],
      "id": "9df47f5a",
      "execution_count": null,
      "outputs": [
        {
          "data": {
            "text/plain": [
              "{2, 3}"
            ]
          },
          "execution_count": 49,
          "metadata": {},
          "output_type": "execute_result"
        }
      ]
    },
    {
      "cell_type": "code",
      "metadata": {
        "id": "abfabfd7",
        "outputId": "0371e70e-8f6a-4f1c-d353-c5c6efb6d5de"
      },
      "source": [
        "num_set - set([2])"
      ],
      "id": "abfabfd7",
      "execution_count": null,
      "outputs": [
        {
          "data": {
            "text/plain": [
              "{1, 3}"
            ]
          },
          "execution_count": 50,
          "metadata": {},
          "output_type": "execute_result"
        }
      ]
    },
    {
      "cell_type": "code",
      "metadata": {
        "id": "79bc1383",
        "outputId": "5d9aa802-cc70-4bbf-dc47-3b83d24b397e"
      },
      "source": [
        "num_set - set([1,2])"
      ],
      "id": "79bc1383",
      "execution_count": null,
      "outputs": [
        {
          "data": {
            "text/plain": [
              "{3}"
            ]
          },
          "execution_count": 51,
          "metadata": {},
          "output_type": "execute_result"
        }
      ]
    },
    {
      "cell_type": "code",
      "metadata": {
        "id": "9d904522",
        "outputId": "18caca56-bc14-4503-beb8-0d371d4d0f4a"
      },
      "source": [
        "[1] + [2, 3]"
      ],
      "id": "9d904522",
      "execution_count": null,
      "outputs": [
        {
          "data": {
            "text/plain": [
              "[1, 2, 3]"
            ]
          },
          "execution_count": 52,
          "metadata": {},
          "output_type": "execute_result"
        }
      ]
    },
    {
      "cell_type": "code",
      "metadata": {
        "id": "509367be",
        "outputId": "9ee8d3ea-faa0-402b-9b87-33e68f92739e"
      },
      "source": [
        "[] + [2]"
      ],
      "id": "509367be",
      "execution_count": null,
      "outputs": [
        {
          "data": {
            "text/plain": [
              "[2]"
            ]
          },
          "execution_count": 53,
          "metadata": {},
          "output_type": "execute_result"
        }
      ]
    },
    {
      "cell_type": "code",
      "metadata": {
        "id": "1cdf5172",
        "outputId": "e1d73c43-8140-487b-a847-efcc00e9972e"
      },
      "source": [
        "num_set - set([1] + [2])"
      ],
      "id": "1cdf5172",
      "execution_count": null,
      "outputs": [
        {
          "data": {
            "text/plain": [
              "{3}"
            ]
          },
          "execution_count": 54,
          "metadata": {},
          "output_type": "execute_result"
        }
      ]
    },
    {
      "cell_type": "code",
      "metadata": {
        "id": "f1a39267",
        "outputId": "4100679b-ba08-4e21-cee9-ac73ea8fd142"
      },
      "source": [
        "[1, 2] + [3]"
      ],
      "id": "f1a39267",
      "execution_count": null,
      "outputs": [
        {
          "data": {
            "text/plain": [
              "[1, 2, 3]"
            ]
          },
          "execution_count": 55,
          "metadata": {},
          "output_type": "execute_result"
        }
      ]
    },
    {
      "cell_type": "code",
      "metadata": {
        "id": "4a53e104"
      },
      "source": [
        "solution = [[]]"
      ],
      "id": "4a53e104",
      "execution_count": null,
      "outputs": []
    },
    {
      "cell_type": "code",
      "metadata": {
        "id": "4f80cac6"
      },
      "source": [
        "# solution = [[]]\n",
        "\n",
        "# solution - 1 = [[1], [2], [3]]\n",
        "\n",
        "# solution - 2 = [[1, 2], [1, 3], [2, 1], [2, 3], [3, 1], [3, 2]]\n",
        "\n",
        "# solution - 3 = [[1, 2, 3], [1, 3, 2], [2, 1, 3], [2, 3, 1], [3, 1, 2], [3, 2, 1]]\n",
        "\n",
        "# "
      ],
      "id": "4f80cac6",
      "execution_count": null,
      "outputs": []
    },
    {
      "cell_type": "code",
      "metadata": {
        "id": "d8854248",
        "outputId": "ecac4167-1505-4748-8f5a-9eb59fe533b8"
      },
      "source": [
        "num"
      ],
      "id": "d8854248",
      "execution_count": null,
      "outputs": [
        {
          "data": {
            "text/plain": [
              "[1, 2, 3]"
            ]
          },
          "execution_count": 57,
          "metadata": {},
          "output_type": "execute_result"
        }
      ]
    },
    {
      "cell_type": "code",
      "metadata": {
        "id": "73056aaf"
      },
      "source": [
        "# [body for variable in iterable]"
      ],
      "id": "73056aaf",
      "execution_count": null,
      "outputs": []
    },
    {
      "cell_type": "code",
      "metadata": {
        "id": "226280bb",
        "outputId": "bdedb76e-f0dd-466e-c85e-5babf0c13e25"
      },
      "source": [
        "[[i] for i in range(3)]"
      ],
      "id": "226280bb",
      "execution_count": null,
      "outputs": [
        {
          "data": {
            "text/plain": [
              "[[0], [1], [2]]"
            ]
          },
          "execution_count": 58,
          "metadata": {},
          "output_type": "execute_result"
        }
      ]
    },
    {
      "cell_type": "code",
      "metadata": {
        "id": "5706bb1d",
        "outputId": "d0196f45-5ad4-43e6-a607-be867c3f00e5"
      },
      "source": [
        "[[i ** 2] for i in range(3)]"
      ],
      "id": "5706bb1d",
      "execution_count": null,
      "outputs": [
        {
          "data": {
            "text/plain": [
              "[[0], [1], [4]]"
            ]
          },
          "execution_count": 60,
          "metadata": {},
          "output_type": "execute_result"
        }
      ]
    },
    {
      "cell_type": "code",
      "metadata": {
        "id": "3e428b13",
        "outputId": "b4dac150-76ac-495f-d45a-c2bf7ee1de59"
      },
      "source": [
        "[[i ** 2] + [\"a\"] for i in range(3)]"
      ],
      "id": "3e428b13",
      "execution_count": null,
      "outputs": [
        {
          "data": {
            "text/plain": [
              "[[0, 'a'], [1, 'a'], [4, 'a']]"
            ]
          },
          "execution_count": 61,
          "metadata": {},
          "output_type": "execute_result"
        }
      ]
    },
    {
      "cell_type": "code",
      "metadata": {
        "id": "556eeb0d",
        "outputId": "33387b5e-a9e3-4fbf-ec4d-39a7cb57a76a"
      },
      "source": [
        "bos = []\n",
        "\n",
        "for i in range(3) :\n",
        "    bos.append([i])\n",
        "bos"
      ],
      "id": "556eeb0d",
      "execution_count": null,
      "outputs": [
        {
          "data": {
            "text/plain": [
              "[[0], [1], [2]]"
            ]
          },
          "execution_count": 59,
          "metadata": {},
          "output_type": "execute_result"
        }
      ]
    },
    {
      "cell_type": "code",
      "metadata": {
        "id": "3b06788a",
        "outputId": "e1f2cf1b-2b45-4c6b-ef8a-4996cefbb12b"
      },
      "source": [
        "boss = []\n",
        "\n",
        "for i in range(3) :\n",
        "    for j in range(4,7) :\n",
        "        boss.append(str(i) + str(j))\n",
        "        \n",
        "boss"
      ],
      "id": "3b06788a",
      "execution_count": null,
      "outputs": [
        {
          "data": {
            "text/plain": [
              "['04', '05', '06', '14', '15', '16', '24', '25', '26']"
            ]
          },
          "execution_count": 65,
          "metadata": {},
          "output_type": "execute_result"
        }
      ]
    },
    {
      "cell_type": "code",
      "metadata": {
        "id": "1dba9f93",
        "outputId": "8a9e04f2-fc86-4cec-be42-079d2e6efaaa"
      },
      "source": [
        "[str(i) + str(j) for i in range(3) for j in range(4,7)]"
      ],
      "id": "1dba9f93",
      "execution_count": null,
      "outputs": [
        {
          "data": {
            "text/plain": [
              "['04', '05', '06', '14', '15', '16', '24', '25', '26']"
            ]
          },
          "execution_count": 66,
          "metadata": {},
          "output_type": "execute_result"
        }
      ]
    },
    {
      "cell_type": "code",
      "metadata": {
        "id": "c4c54157",
        "outputId": "718d51d0-afdc-4da0-a100-8bc02d72791c"
      },
      "source": [
        "num_set"
      ],
      "id": "c4c54157",
      "execution_count": null,
      "outputs": [
        {
          "data": {
            "text/plain": [
              "{1, 2, 3}"
            ]
          },
          "execution_count": 67,
          "metadata": {},
          "output_type": "execute_result"
        }
      ]
    },
    {
      "cell_type": "code",
      "metadata": {
        "id": "3edb6370"
      },
      "source": [
        "# solution = [[]]\n",
        "\n",
        "# solution - 1 = [[1], [2], [3]]\n",
        "\n",
        "# solution - 2 = [[1, 2], [1, 3], [2, 1], [2, 3], [3, 1], [3, 2]]\n",
        "\n",
        "# solution - 3 = [[1, 2, 3], [1, 3, 2], [2, 1, 3], [2, 3, 1], [3, 1, 2], [3, 2, 1]]\n",
        "\n",
        "# "
      ],
      "id": "3edb6370",
      "execution_count": null,
      "outputs": []
    },
    {
      "cell_type": "code",
      "metadata": {
        "id": "cbd4e811",
        "outputId": "017c7987-cec6-4793-ed9a-e193e65a9f8d"
      },
      "source": [
        "for index in range(len(num)) :\n",
        "    solution = [i + [j] for i in solution for j in num_set.difference(set(i))]\n",
        "    print(solution)"
      ],
      "id": "cbd4e811",
      "execution_count": null,
      "outputs": [
        {
          "name": "stdout",
          "output_type": "stream",
          "text": [
            "[[1], [2], [3]]\n",
            "[[1, 2], [1, 3], [2, 1], [2, 3], [3, 1], [3, 2]]\n",
            "[[1, 2, 3], [1, 3, 2], [2, 1, 3], [2, 3, 1], [3, 1, 2], [3, 2, 1]]\n"
          ]
        }
      ]
    },
    {
      "cell_type": "code",
      "metadata": {
        "id": "8a7ae261"
      },
      "source": [
        ""
      ],
      "id": "8a7ae261",
      "execution_count": null,
      "outputs": []
    },
    {
      "cell_type": "code",
      "metadata": {
        "id": "a52eec19"
      },
      "source": [
        ""
      ],
      "id": "a52eec19",
      "execution_count": null,
      "outputs": []
    },
    {
      "cell_type": "code",
      "metadata": {
        "id": "7fa57748"
      },
      "source": [
        ""
      ],
      "id": "7fa57748",
      "execution_count": null,
      "outputs": []
    },
    {
      "cell_type": "code",
      "metadata": {
        "id": "aba1c75b"
      },
      "source": [
        ""
      ],
      "id": "aba1c75b",
      "execution_count": null,
      "outputs": []
    }
  ]
}